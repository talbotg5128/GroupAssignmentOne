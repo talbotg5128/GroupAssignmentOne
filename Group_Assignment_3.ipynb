{
  "nbformat": 4,
  "nbformat_minor": 0,
  "metadata": {
    "colab": {
      "name": "Group Assignment 3.ipynb",
      "provenance": [],
      "collapsed_sections": [],
      "include_colab_link": true
    },
    "kernelspec": {
      "name": "python3",
      "display_name": "Python 3"
    }
  },
  "cells": [
    {
      "cell_type": "markdown",
      "metadata": {
        "id": "view-in-github",
        "colab_type": "text"
      },
      "source": [
        "<a href=\"https://colab.research.google.com/github/talbotg5128/GroupAssignmentOne/blob/master/Group_Assignment_3.ipynb\" target=\"_parent\"><img src=\"https://colab.research.google.com/assets/colab-badge.svg\" alt=\"Open In Colab\"/></a>"
      ]
    },
    {
      "cell_type": "code",
      "metadata": {
        "id": "g5uZnci3Sl3m",
        "colab": {
          "base_uri": "https://localhost:8080/"
        },
        "outputId": "a6b9dac8-b5d9-4b4e-983d-00747bb688f0"
      },
      "source": [
        "%load_ext sql"
      ],
      "execution_count": null,
      "outputs": [
        {
          "output_type": "stream",
          "text": [
            "The sql extension is already loaded. To reload it, use:\n",
            "  %reload_ext sql\n"
          ],
          "name": "stdout"
        }
      ]
    },
    {
      "cell_type": "code",
      "metadata": {
        "id": "VhaY2xsQSmjh",
        "colab": {
          "base_uri": "https://localhost:8080/",
          "height": 35
        },
        "outputId": "12b7bc16-25de-41e2-f1c8-db3105b84fbb"
      },
      "source": [
        "%sql sqlite:///hotelDatabase.db"
      ],
      "execution_count": null,
      "outputs": [
        {
          "output_type": "execute_result",
          "data": {
            "application/vnd.google.colaboratory.intrinsic+json": {
              "type": "string"
            },
            "text/plain": [
              "'Connected: @hotelDatabase.db'"
            ]
          },
          "metadata": {
            "tags": []
          },
          "execution_count": 6
        }
      ]
    },
    {
      "cell_type": "code",
      "metadata": {
        "id": "IbTBJz4hSsAX",
        "colab": {
          "base_uri": "https://localhost:8080/"
        },
        "outputId": "1982c5ce-288d-4401-ab88-8ab429ffcbb8"
      },
      "source": [
        "%%sql   \n",
        "DROP TABLE IF EXISTS Rooms;\n",
        "CREATE TABLE Rooms (Room_num integer primary key, Room_Type text, Floor_Num integer, Num_beds integer, Guest_ID integer, Employee_ID integer);\n",
        "DROP TABLE IF EXISTS Guests;\n",
        "Create TABLE Guests (Guest_ID integer primary key, Room_Num integer, Num_Nights integer, Total_Cost real, Firstname text, Lastname text);\n",
        "DROP TABLE IF EXISTS HotelAmenities;\n",
        "Create TABLE HotelAmenities (Amentity_Name text primary key, Room_Num integer, Overhead_Cost real, Floor_Num integer);\n",
        "DROP TABLE IF EXISTS Linens;\n",
        "CREATE TABLE Linens (Linen Type text primary key, Linen_Type_Num integer, Linen_Cost real, Color_Of_Linen text, Room_Num integer);\n",
        "DROP TABLE IF EXISTS Employees;\n",
        "CREATE TABLE Employees (Employee_ID integer primary key, Firstname text, Lastname text, Job_Position text, Salary real);\n",
        "\n",
        "\n",
        "INSERT INTO Rooms VALUES(101, 'standard', 1, 2, 0001, 0001);\n",
        "INSERT INTO Rooms VALUES(102, 'standard', 1, 2, 0566, 0002);\n",
        "INSERT INTO Rooms VALUES(103, 'deluxe', 1, 4, 0003, 0003);\n",
        "\n",
        "INSERT INTO Rooms VALUES(201, 'standard', 2, 2, 0004, 0004);\n",
        "INSERT INTO Rooms VALUES(202, 'standard', 2, 2, 0002, 0005);\n",
        "INSERT INTO Rooms VALUES(203, 'deluxe', 2, 4, 3225, 0001);\n",
        "\n",
        "INSERT INTO Rooms VALUES(301, 'standard', 3, 2, 4698, 0002);\n",
        "INSERT INTO Rooms VALUES(302, 'standard', 3, 2, 0005, 0003);\n",
        "INSERT INTO Rooms VALUES(303, 'deluxe', 3, 4, 4522, 0004);\n",
        "\n",
        "INSERT INTO Guests VALUES(0001, 101, 3, 291.68, 'Luke', 'Foster');\n",
        "INSERT INTO Guests VALUES(0002, 202, 4, 575.23, 'Scott', 'Newman');\n",
        "INSERT INTO Guests VALUES(0003, 103, 3, 336.47, 'Robert', 'Walker');\n",
        "INSERT INTO Guests VALUES(0004, 201, 2, 452.48, 'Linda', 'Carson');\n",
        "INSERT INTO Guests VALUES(0005, 302, 5, 636.33, 'Emily', 'Pearson');\n",
        "\n",
        "INSERT INTO HotelAmenities VALUES('Pool', 1, 500000, 1);\n",
        "INSERT INTO HotelAmenities VALUES('Sauna', 2, 200000, 2);\n",
        "INSERT INTO HotelAmenities VALUES('Restaurant 1', 3, 700000, 1);\n",
        "INSERT INTO HotelAmenities VALUES('Restaurant 2', 4, 200000, 2);\n",
        "INSERT INTO HotelAmenities VALUES('Store', 5, 100000, 1);\n",
        "\n",
        "INSERT INTO Linens VALUES('Small Bath Towel', 100, 10, 'White', 102);\n",
        "INSERT INTO Linens VALUES('Medium Bath Towel', 100, 20, 'White', 101);\n",
        "INSERT INTO Linens VALUES('Large Bath Towel', 100, 30, 'White', 201);\n",
        "INSERT INTO Linens VALUES('Small Hand Towel', 100, 10, 'Blue', 202);\n",
        "INSERT INTO Linens VALUES('Large Hand Towel', 100, 20, 'Blue', 301);\n",
        "\n",
        "INSERT INTO Employees VALUES(0001, \"Noah\", \"Philips\", 'Housekeeper', 30000);\n",
        "INSERT INTO Employees VALUES(0002, \"Anna\", \"Gomez\", 'Manager', 60000);\n",
        "INSERT INTO Employees VALUES(0003, \"Tyler\", \"Hunt\", 'Server', 40000);\n",
        "INSERT INTO Employees VALUES(0004, \"Lily\", \"Booth\", 'Housekeeper', 30000);\n",
        "INSERT INTO Employees VALUES(0005, \"Gary\", \"Cooper\", 'Server', 40000);"
      ],
      "execution_count": 1,
      "outputs": [
        {
          "output_type": "stream",
          "text": [
            "UsageError: Cell magic `%%sql` not found.\n"
          ],
          "name": "stderr"
        }
      ]
    },
    {
      "cell_type": "markdown",
      "metadata": {
        "id": "u41xMFVXFiTd"
      },
      "source": [
        "Which employee earns the highest salary?"
      ]
    },
    {
      "cell_type": "code",
      "metadata": {
        "id": "ru9m4CEaFvsg",
        "colab": {
          "base_uri": "https://localhost:8080/",
          "height": 95
        },
        "outputId": "c1850b95-f522-43f6-9302-3634f2750804"
      },
      "source": [
        "%%sql\n",
        "SELECT max (Salary), Firstname, Lastname from Employees ORDER BY Salary"
      ],
      "execution_count": null,
      "outputs": [
        {
          "output_type": "stream",
          "text": [
            " * sqlite:///hotelDatabase.db\n",
            "Done.\n"
          ],
          "name": "stdout"
        },
        {
          "output_type": "execute_result",
          "data": {
            "text/html": [
              "<table>\n",
              "    <tr>\n",
              "        <th>max (Salary)</th>\n",
              "        <th>Firstname</th>\n",
              "        <th>Lastname</th>\n",
              "    </tr>\n",
              "    <tr>\n",
              "        <td>60000.0</td>\n",
              "        <td>Anna</td>\n",
              "        <td>Gomez</td>\n",
              "    </tr>\n",
              "</table>"
            ],
            "text/plain": [
              "[(60000.0, 'Anna', 'Gomez')]"
            ]
          },
          "metadata": {
            "tags": []
          },
          "execution_count": 13
        }
      ]
    },
    {
      "cell_type": "markdown",
      "metadata": {
        "id": "jHs_rOvIJCyd"
      },
      "source": [
        "This question is important because it shows a user's ability to search within a specific database and shows how to order a set of strings in alphabetical order. This demonstrates the ORDER BY method which is a helpful tool to be able to utilize when constructing a list or a data set."
      ]
    },
    {
      "cell_type": "markdown",
      "metadata": {
        "id": "fOKFKL39HKZP"
      },
      "source": [
        "What room is the sauna in?"
      ]
    },
    {
      "cell_type": "code",
      "metadata": {
        "id": "ms6lWsKGHYFi",
        "colab": {
          "base_uri": "https://localhost:8080/",
          "height": 95
        },
        "outputId": "fb6bebce-d8e8-4334-b384-9b44e98e4611"
      },
      "source": [
        "%%sql\n",
        "SELECT Room_Num, Floor_Num FROM HotelAmenities WHERE Amentity_Name = \"Sauna\""
      ],
      "execution_count": null,
      "outputs": [
        {
          "output_type": "stream",
          "text": [
            " * sqlite:///hotelDatabase.db\n",
            "Done.\n"
          ],
          "name": "stdout"
        },
        {
          "output_type": "execute_result",
          "data": {
            "text/html": [
              "<table>\n",
              "    <tr>\n",
              "        <th>Room_Num</th>\n",
              "        <th>Floor_Num</th>\n",
              "    </tr>\n",
              "    <tr>\n",
              "        <td>2</td>\n",
              "        <td>2</td>\n",
              "    </tr>\n",
              "</table>"
            ],
            "text/plain": [
              "[(2, 2)]"
            ]
          },
          "metadata": {
            "tags": []
          },
          "execution_count": 14
        }
      ]
    },
    {
      "cell_type": "markdown",
      "metadata": {
        "id": "FUorWOD9Jici"
      },
      "source": [
        "This question showcases a skill to search for a specific name of an attribute within an entity class. It searches for a specific name of a room and provides the location in the results. This ran the way as expected and provides the user with an accurate location of the hotel amentity."
      ]
    },
    {
      "cell_type": "markdown",
      "metadata": {
        "id": "aJV-I1DQHvlW"
      },
      "source": [
        "What are the hotel amentities on the first floor?"
      ]
    },
    {
      "cell_type": "code",
      "metadata": {
        "id": "x7b9UkEjIonp",
        "colab": {
          "base_uri": "https://localhost:8080/",
          "height": 137
        },
        "outputId": "d68da1f0-0883-4e16-c32c-7b67843ea8cc"
      },
      "source": [
        "%%sql\n",
        "SELECT Amentity_Name FROM HotelAmenities WHERE Floor_Num = 1"
      ],
      "execution_count": null,
      "outputs": [
        {
          "output_type": "stream",
          "text": [
            " * sqlite:///hotelDatabase.db\n",
            "Done.\n"
          ],
          "name": "stdout"
        },
        {
          "output_type": "execute_result",
          "data": {
            "text/html": [
              "<table>\n",
              "    <tr>\n",
              "        <th>Amentity_Name</th>\n",
              "    </tr>\n",
              "    <tr>\n",
              "        <td>Pool</td>\n",
              "    </tr>\n",
              "    <tr>\n",
              "        <td>Restaurant 1</td>\n",
              "    </tr>\n",
              "    <tr>\n",
              "        <td>Store</td>\n",
              "    </tr>\n",
              "</table>"
            ],
            "text/plain": [
              "[('Pool',), ('Restaurant 1',), ('Store',)]"
            ]
          },
          "metadata": {
            "tags": []
          },
          "execution_count": 15
        }
      ]
    },
    {
      "cell_type": "markdown",
      "metadata": {
        "id": "gYj_2_KpJ3Lt"
      },
      "source": [
        "This question and answer will search through the hotel amentities table and return a list of amentities on the first floor. This question is important because it shows the user multiple results for the question and prompts the program to search within the database for multiple results instead of just one. This is important to gather information on when searching in a list."
      ]
    }
  ]
}